{
 "cells": [
  {
   "cell_type": "code",
   "execution_count": 12,
   "id": "e8b4d276",
   "metadata": {},
   "outputs": [],
   "source": [
    "# Import necessary libraries\n",
    "import numpy as np\n",
    "import pandas as pd\n",
    "import matplotlib.pyplot as plt\n",
    "import warnings\n",
    "import pickle\n",
    "import os\n",
    "import argparse\n",
    "from sklearn.preprocessing import MinMaxScaler\n",
    "from sksurv.ensemble import GradientBoostingSurvivalAnalysis, ComponentwiseGradientBoostingSurvivalAnalysis\n",
    "from sksurv.metrics import concordance_index_censored, integrated_brier_score, brier_score, concordance_index_ipcw\n",
    "from sksurv.functions import StepFunction\n",
    "from sksurv.nonparametric import kaplan_meier_estimator\n",
    "import matplotlib.ticker as mtick\n",
    "warnings.filterwarnings('ignore')\n",
    "plt.style.use('ggplot')"
   ]
  },
  {
   "cell_type": "code",
   "execution_count": 2,
   "id": "80207ab8",
   "metadata": {},
   "outputs": [],
   "source": [
    "# 导入功能模块\n",
    "from func.data_utils import load_data, load_variable_definitions, load_lasso_features, prepare_data\n",
    "from func.data_utils_test import load_data_test, prepare_data_test\n"
   ]
  },
  {
   "cell_type": "code",
   "execution_count": 7,
   "id": "7784862c",
   "metadata": {},
   "outputs": [
    {
     "name": "stdout",
     "output_type": "stream",
     "text": [
      "配置: seed=3456, predictor=pro\n"
     ]
    }
   ],
   "source": [
    "\n",
    "seed, predictor, output_dir = 3456, \"pro\", \"/home/louchen/UKB_meno_pre/s2_model\"\n",
    "print(f\"配置: seed={seed}, predictor={predictor}\", flush=True)"
   ]
  },
  {
   "cell_type": "code",
   "execution_count": 8,
   "id": "d83fd404",
   "metadata": {},
   "outputs": [
    {
     "name": "stdout",
     "output_type": "stream",
     "text": [
      "数据加载中...\n",
      "数据准备完成: pro类型, 训练集166个特征, 2822个样本\n",
      "测试集: 166个特征, 940个样本\n"
     ]
    }
   ],
   "source": [
    "# 数据准备\n",
    "print(\"数据加载中...\", flush=True)\n",
    "surv_pred_train = load_data(seed)\n",
    "surv_pred_test = load_data_test(seed)\n",
    "exp_var, out_surv, pro_var = load_variable_definitions()\n",
    "pro_lasso = load_lasso_features(seed)\n",
    "X_train_model, Y_train, groups_train = prepare_data(surv_pred_train, pro_lasso, out_surv, predictor=predictor, exp_var=exp_var)\n",
    "X_test_model, Y_test, groups_test = prepare_data_test(surv_pred_test, pro_lasso, out_surv, predictor=predictor, exp_var=exp_var)\n",
    "\n",
    "print(f\"数据准备完成: {predictor}类型, 训练集{X_train_model.shape[1]}个特征, {X_train_model.shape[0]}个样本\", flush=True)\n",
    "print(f\"测试集: {X_test_model.shape[1]}个特征, {X_test_model.shape[0]}个样本\", flush=True)"
   ]
  },
  {
   "cell_type": "code",
   "execution_count": 10,
   "id": "a48162f4",
   "metadata": {},
   "outputs": [
    {
     "name": "stdout",
     "output_type": "stream",
     "text": [
      "加载模型: /home/louchen/UKB_meno_pre/s2_model/model/pro/gbm/gbm_best_model_3456.pkl\n"
     ]
    }
   ],
   "source": [
    "# Create output directory for results\n",
    "os.makedirs(output_dir, exist_ok=True)\n",
    "\n",
    "# Load the trained model with seed and predictor\n",
    "model_dir = os.path.join(output_dir, f\"model/{predictor}/gbm\")\n",
    "model_path = os.path.join(model_dir, f\"gbm_best_model_{seed}.pkl\")\n",
    "with open(model_path, \"rb\") as f:\n",
    "    loaded_model = pickle.load(f)\n",
    "\n",
    "print(f\"加载模型: {model_path}\")"
   ]
  },
  {
   "cell_type": "code",
   "execution_count": 15,
   "id": "3d9f1469",
   "metadata": {},
   "outputs": [
    {
     "name": "stdout",
     "output_type": "stream",
     "text": [
      "C-index (测试集): 0.6901\n"
     ]
    }
   ],
   "source": [
    "# Predict risk scores on test data\n",
    "risk_scores = loaded_model.predict(X_test_model)\n",
    "c_index_result = concordance_index_censored(\n",
    "    Y_test['e.tdm'],\n",
    "    Y_test['t.tdm'],\n",
    "    risk_scores\n",
    ")\n",
    "c_index = c_index_result[0]\n",
    "print(f\"C-index (测试集): {c_index:.4f}\")"
   ]
  },
  {
   "cell_type": "code",
   "execution_count": 41,
   "id": "bfc64391",
   "metadata": {},
   "outputs": [
    {
     "name": "stdout",
     "output_type": "stream",
     "text": [
      "1696.4 5394.4\n"
     ]
    },
    {
     "data": {
      "text/plain": [
       "array([1696.4, 1697.4, 1698.4, ..., 5392.4, 5393.4, 5394.4])"
      ]
     },
     "execution_count": 41,
     "metadata": {},
     "output_type": "execute_result"
    }
   ],
   "source": [
    "lower, upper = np.percentile(Y_test[\"t.tdm\"], [10, 90])\n",
    "print(lower,upper)\n",
    "brier_times = np.arange(lower, upper + 1)\n",
    "brier_times"
   ]
  },
  {
   "cell_type": "code",
   "execution_count": 57,
   "id": "f1839565",
   "metadata": {},
   "outputs": [],
   "source": [
    "surv_prob = np.vstack([fn(brier_times) for fn in loaded_model.predict_survival_function(X_test_model)])\n"
   ]
  },
  {
   "cell_type": "code",
   "execution_count": 45,
   "id": "3fa40fb9",
   "metadata": {},
   "outputs": [],
   "source": [
    "random_surv_prob = 0.5 * np.ones((Y_test.shape[0], brier_times.shape[0]))"
   ]
  },
  {
   "cell_type": "code",
   "execution_count": 47,
   "id": "161960b1",
   "metadata": {},
   "outputs": [],
   "source": [
    "km_func = StepFunction(*kaplan_meier_estimator(Y_test[\"e.tdm\"], Y_test[\"t.tdm\"]))\n",
    "km_surv_prob = np.tile(km_func(brier_times), (Y_test.shape[0], 1))"
   ]
  },
  {
   "cell_type": "code",
   "execution_count": 48,
   "id": "eb4ad01f",
   "metadata": {},
   "outputs": [
    {
     "data": {
      "text/plain": [
       "GBM             0.129862\n",
       "Random          0.252032\n",
       "Kaplan-Meier    0.130013\n",
       "Name: IBS, dtype: float64"
      ]
     },
     "execution_count": 48,
     "metadata": {},
     "output_type": "execute_result"
    }
   ],
   "source": [
    "score_brier = pd.Series(\n",
    "    [\n",
    "        integrated_brier_score(Y_train, Y_test, prob, brier_times)\n",
    "        for prob in (surv_prob, random_surv_prob, km_surv_prob)\n",
    "    ],\n",
    "    index=[\"GBM\", \"Random\", \"Kaplan-Meier\"],\n",
    "    name=\"IBS\",\n",
    ")\n",
    "\n",
    "score_brier"
   ]
  },
  {
   "cell_type": "code",
   "execution_count": null,
   "id": "81f96fb1",
   "metadata": {},
   "outputs": [],
   "source": [
    "survs = loaded_model.predict_survival_function(X_test_model)\n",
    "preds = [fn(365.25*3) for fn in survs]\n",
    "times, score = brier_score(Y_train, Y_test, preds, 365.25*3)\n",
    "print(score)"
   ]
  },
  {
   "cell_type": "code",
   "execution_count": 63,
   "id": "e4575990",
   "metadata": {},
   "outputs": [
    {
     "name": "stdout",
     "output_type": "stream",
     "text": [
      "[0.08758378]\n"
     ]
    }
   ],
   "source": [
    "survs = loaded_model.predict_survival_function(X_test_model)\n",
    "preds = [fn(365.25*5) for fn in survs]\n",
    "times, score = brier_score(Y_train, Y_test, preds, 365.25*5)\n",
    "print(score)"
   ]
  },
  {
   "cell_type": "code",
   "execution_count": 64,
   "id": "ea15f81a",
   "metadata": {},
   "outputs": [
    {
     "name": "stdout",
     "output_type": "stream",
     "text": [
      "[0.13805849]\n"
     ]
    }
   ],
   "source": [
    "survs = loaded_model.predict_survival_function(X_test_model)\n",
    "preds = [fn(365.25*10) for fn in survs]\n",
    "times, score = brier_score(Y_train, Y_test, preds, 365.25*10)\n",
    "print(score)"
   ]
  }
 ],
 "metadata": {
  "jupytext": {
   "cell_metadata_filter": "-all",
   "main_language": "python",
   "notebook_metadata_filter": "-all"
  },
  "kernelspec": {
   "display_name": "pred_oa",
   "language": "python",
   "name": "python3"
  },
  "language_info": {
   "codemirror_mode": {
    "name": "ipython",
    "version": 3
   },
   "file_extension": ".py",
   "mimetype": "text/x-python",
   "name": "python",
   "nbconvert_exporter": "python",
   "pygments_lexer": "ipython3",
   "version": "3.9.21"
  }
 },
 "nbformat": 4,
 "nbformat_minor": 5
}
